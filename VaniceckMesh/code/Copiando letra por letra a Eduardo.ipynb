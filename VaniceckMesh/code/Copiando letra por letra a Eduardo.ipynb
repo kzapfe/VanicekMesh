{
 "metadata": {
  "name": ""
 },
 "nbformat": 3,
 "nbformat_minor": 0,
 "worksheets": [
  {
   "cells": [
    {
     "cell_type": "heading",
     "level": 1,
     "metadata": {},
     "source": [
      "Tecnica de Hernado-Eduardo con dos osciladores arm\u00f3nicos IGUALES."
     ]
    },
    {
     "cell_type": "code",
     "collapsed": false,
     "input": [
      "N=20\n",
      "xmin=-5.\n",
      "xmax=5.\n",
      "dt=0.12\n",
      "hbar=1\n",
      "omega=1"
     ],
     "language": "python",
     "metadata": {},
     "outputs": [],
     "prompt_number": 1
    },
    {
     "cell_type": "code",
     "collapsed": false,
     "input": [
      "import numpy as np"
     ],
     "language": "python",
     "metadata": {},
     "outputs": [],
     "prompt_number": 2
    },
    {
     "cell_type": "code",
     "collapsed": false,
     "input": [
      "PuntosQ=np.zeros((N*N,2), float)"
     ],
     "language": "python",
     "metadata": {},
     "outputs": [],
     "prompt_number": 48
    },
    {
     "cell_type": "code",
     "collapsed": false,
     "input": [
      "cuenta=0\n",
      "for j in range(0, N):\n",
      "    for k in range(0, N):\n",
      "        PuntosQ[cuenta,0]=xmin+(xmax-xmin)*(j+1./2.)/N\n",
      "        PuntosQ[cuenta,1]=xmin+(xmax-xmin)*(k+1./2.)/N\n",
      "        cuenta+=1"
     ],
     "language": "python",
     "metadata": {},
     "outputs": [],
     "prompt_number": 50
    },
    {
     "cell_type": "code",
     "collapsed": false,
     "input": [
      "import numpy.linalg as la"
     ],
     "language": "python",
     "metadata": {},
     "outputs": [],
     "prompt_number": 56
    },
    {
     "cell_type": "code",
     "collapsed": false,
     "input": [
      "Propagator=np.zeros((N*N,N*N), float)"
     ],
     "language": "python",
     "metadata": {},
     "outputs": [],
     "prompt_number": 54
    },
    {
     "cell_type": "code",
     "collapsed": false,
     "input": [
      "def Pot(x,y):\n",
      "    result=(x*x+y*y)/2.\n",
      "    return result"
     ],
     "language": "python",
     "metadata": {},
     "outputs": [],
     "prompt_number": 92
    },
    {
     "cell_type": "code",
     "collapsed": false,
     "input": [
      "for j in range(0,N*N):\n",
      "    for k in range(0,N*N):\n",
      "        Propagator[j,k]=np.exp(-(la.norm(PuntosQ[j]-PuntosQ[k])**2/(2*dt))-(la.norm(PuntosQ[j])**2+la.norm(PuntosQ[k])**2)*dt/4.0)"
     ],
     "language": "python",
     "metadata": {},
     "outputs": [],
     "prompt_number": 132
    },
    {
     "cell_type": "code",
     "collapsed": false,
     "input": [
      "print(PuntosQ[190])\n",
      "print(Propagator[190,190])"
     ],
     "language": "python",
     "metadata": {},
     "outputs": [
      {
       "output_type": "stream",
       "stream": "stdout",
       "text": [
        "[-0.25  0.25]\n",
        "0.992528054819\n"
       ]
      }
     ],
     "prompt_number": 133
    },
    {
     "cell_type": "code",
     "collapsed": false,
     "input": [
      "ZD=(xmax-xmin)**2"
     ],
     "language": "python",
     "metadata": {},
     "outputs": [],
     "prompt_number": 134
    },
    {
     "cell_type": "code",
     "collapsed": false,
     "input": [
      "Propagator=Propagator*ZD/(N*N*2.*dt*np.pi)\n",
      "print(Propagator[190,190])"
     ],
     "language": "python",
     "metadata": {},
     "outputs": [
      {
       "output_type": "stream",
       "stream": "stdout",
       "text": [
        "0.329095304337\n"
       ]
      }
     ],
     "prompt_number": 135
    },
    {
     "cell_type": "code",
     "collapsed": false,
     "input": [
      "Chunflas=la.eig(Propagator)"
     ],
     "language": "python",
     "metadata": {},
     "outputs": [],
     "prompt_number": 136
    },
    {
     "cell_type": "code",
     "collapsed": false,
     "input": [
      "type(Chunflas)"
     ],
     "language": "python",
     "metadata": {},
     "outputs": [
      {
       "metadata": {},
       "output_type": "pyout",
       "prompt_number": 137,
       "text": [
        "builtins.tuple"
       ]
      }
     ],
     "prompt_number": 137
    },
    {
     "cell_type": "code",
     "collapsed": false,
     "input": [
      "explambdaenergias=Chunflas[0].real"
     ],
     "language": "python",
     "metadata": {},
     "outputs": [],
     "prompt_number": 138
    },
    {
     "cell_type": "code",
     "collapsed": false,
     "input": [
      "explambdaenergias[3]"
     ],
     "language": "python",
     "metadata": {},
     "outputs": [
      {
       "metadata": {},
       "output_type": "pyout",
       "prompt_number": 139,
       "text": [
        "0.69875825243445056"
       ]
      }
     ],
     "prompt_number": 139
    },
    {
     "cell_type": "code",
     "collapsed": false,
     "input": [
      "energias=np.sort(np.log(explambdaenergias)/(-dt))\n",
      "EigenFunciones=np.append(PuntosQ, Chunflas[1].real,1)"
     ],
     "language": "python",
     "metadata": {},
     "outputs": [],
     "prompt_number": 156
    },
    {
     "cell_type": "code",
     "collapsed": false,
     "input": [
      "EigenFunciones.shape"
     ],
     "language": "python",
     "metadata": {},
     "outputs": [
      {
       "metadata": {},
       "output_type": "pyout",
       "prompt_number": 157,
       "text": [
        "(400, 402)"
       ]
      }
     ],
     "prompt_number": 157
    },
    {
     "cell_type": "code",
     "collapsed": false,
     "input": [
      "np.savetxt(\"Energias2DEduardo.dat\", energias)"
     ],
     "language": "python",
     "metadata": {},
     "outputs": [],
     "prompt_number": 147
    },
    {
     "cell_type": "code",
     "collapsed": false,
     "input": [
      "np.savetxt(\"EigenEstados2DEduardo.dat\", EigenFunciones)"
     ],
     "language": "python",
     "metadata": {},
     "outputs": [],
     "prompt_number": 158
    },
    {
     "cell_type": "code",
     "collapsed": false,
     "input": [
      "print(EigenFunciones)"
     ],
     "language": "python",
     "metadata": {},
     "outputs": [
      {
       "output_type": "stream",
       "stream": "stdout",
       "text": [
        "[[ -4.75000000e+00+0.j  -4.75000000e+00+0.j  -4.22326640e-11+0.j ...,\n",
        "    8.89727190e-05+0.j  -1.16427404e-04+0.j  -2.00530587e-05+0.j]\n",
        " [ -4.75000000e+00+0.j  -4.25000000e+00+0.j  -4.04152566e-10+0.j ...,\n",
        "    6.19645540e-04+0.j  -3.82400829e-04+0.j   4.34217062e-04+0.j]\n",
        " [ -4.75000000e+00+0.j  -3.75000000e+00+0.j  -2.99666592e-09+0.j ...,\n",
        "    3.60004757e-03+0.j  -2.59466271e-03+0.j   2.02316877e-03+0.j]\n",
        " ..., \n",
        " [  4.75000000e+00+0.j   3.75000000e+00+0.j  -2.99666613e-09+0.j ...,\n",
        "   -3.60004757e-03+0.j  -2.59466271e-03+0.j   2.02316877e-03+0.j]\n",
        " [  4.75000000e+00+0.j   4.25000000e+00+0.j  -4.04152565e-10+0.j ...,\n",
        "   -6.19645540e-04+0.j  -3.82400829e-04+0.j   4.34217062e-04+0.j]\n",
        " [  4.75000000e+00+0.j   4.75000000e+00+0.j  -4.22324677e-11+0.j ...,\n",
        "   -8.89727190e-05+0.j  -1.16427404e-04+0.j  -2.00530587e-05+0.j]]\n"
       ]
      }
     ],
     "prompt_number": 155
    },
    {
     "cell_type": "code",
     "collapsed": false,
     "input": [],
     "language": "python",
     "metadata": {},
     "outputs": []
    }
   ],
   "metadata": {}
  }
 ]
}