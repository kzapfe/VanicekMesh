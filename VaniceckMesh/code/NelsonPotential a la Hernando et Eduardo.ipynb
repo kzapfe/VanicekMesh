{
 "metadata": {
  "name": ""
 },
 "nbformat": 3,
 "nbformat_minor": 0,
 "worksheets": [
  {
   "cells": [
    {
     "cell_type": "markdown",
     "metadata": {},
     "source": [
      "Abajo ponemos los parametros pertinentes para resolver el problema de Nelson Potential."
     ]
    },
    {
     "cell_type": "code",
     "collapsed": false,
     "input": [
      "N=80\n",
      "xmin=-5.\n",
      "xmax=5.\n",
      "ymin=-1.\n",
      "ymax=9.\n",
      "dt=0.06\n",
      "hbar=1\n",
      "w1=0.1\n",
      "w2=2"
     ],
     "language": "python",
     "metadata": {},
     "outputs": [],
     "prompt_number": 70
    },
    {
     "cell_type": "markdown",
     "metadata": {},
     "source": [
      "Aqui ponemos las librerias que vamos a usar, numpy y lineal algebra"
     ]
    },
    {
     "cell_type": "code",
     "collapsed": false,
     "input": [
      "import numpy as np"
     ],
     "language": "python",
     "metadata": {},
     "outputs": [],
     "prompt_number": 71
    },
    {
     "cell_type": "code",
     "collapsed": false,
     "input": [
      "import numpy.linalg as la"
     ],
     "language": "python",
     "metadata": {},
     "outputs": [],
     "prompt_number": 72
    },
    {
     "cell_type": "code",
     "collapsed": false,
     "input": [
      "def PotNelson(x,y):\n",
      "    result=(w1*x*x/2.+w2*(y-x*x/2.)**2)\n",
      "    return result"
     ],
     "language": "python",
     "metadata": {},
     "outputs": [],
     "prompt_number": 73
    },
    {
     "cell_type": "code",
     "collapsed": false,
     "input": [
      "PotNelson(0.52,2)"
     ],
     "language": "python",
     "metadata": {},
     "outputs": [
      {
       "metadata": {},
       "output_type": "pyout",
       "prompt_number": 74,
       "text": [
        "6.96847808"
       ]
      }
     ],
     "prompt_number": 74
    },
    {
     "cell_type": "code",
     "collapsed": false,
     "input": [
      "PuntosQ=np.zeros((N*N,2), float)"
     ],
     "language": "python",
     "metadata": {},
     "outputs": [],
     "prompt_number": 75
    },
    {
     "cell_type": "code",
     "collapsed": false,
     "input": [
      "cuenta=0\n",
      "for j in range(0, N):\n",
      "    for k in range(0, N):\n",
      "        PuntosQ[cuenta,0]=xmin+(xmax-xmin)*(j+1./2.)/N\n",
      "        PuntosQ[cuenta,1]=ymin+(ymax-ymin)*(k+1./2.)/N\n",
      "        cuenta+=1"
     ],
     "language": "python",
     "metadata": {},
     "outputs": [],
     "prompt_number": 76
    },
    {
     "cell_type": "markdown",
     "metadata": {},
     "source": [
      "Aqui nomas para empezar, sin usar hbar:"
     ]
    },
    {
     "cell_type": "code",
     "collapsed": false,
     "input": [
      "Propagator=np.zeros((N*N,N*N), float)\n",
      "for j in range(0,N*N):\n",
      "    for k in range(0,N*N):\n",
      "        Propagator[j,k]=(np.exp(-(la.norm(PuntosQ[j]-PuntosQ[k])**2/(2*dt*hbar))\n",
      "                                -(PotNelson(PuntosQ[j,0],PuntosQ[j,1])+\n",
      "                                  PotNelson(PuntosQ[k,0],PuntosQ[k,1]))*dt/(hbar*2.0)))"
     ],
     "language": "python",
     "metadata": {},
     "outputs": [],
     "prompt_number": 77
    },
    {
     "cell_type": "code",
     "collapsed": false,
     "input": [
      "ZD=(xmax-xmin)*(ymax-ymin)\n",
      "Propagator=Propagator*ZD/(N*N*2.*hbar*dt*np.pi)"
     ],
     "language": "python",
     "metadata": {},
     "outputs": [],
     "prompt_number": 78
    },
    {
     "cell_type": "code",
     "collapsed": false,
     "input": [
      "np.savetxt(\"PropNelson2.dat\", Propagator)"
     ],
     "language": "python",
     "metadata": {},
     "outputs": [],
     "prompt_number": 79
    },
    {
     "cell_type": "code",
     "collapsed": false,
     "input": [
      "Chunflas=la.eig(Propagator)"
     ],
     "language": "python",
     "metadata": {},
     "outputs": [],
     "prompt_number": 86
    },
    {
     "cell_type": "code",
     "collapsed": false,
     "input": [
      "explambdaenergias=Chunflas[0].real"
     ],
     "language": "python",
     "metadata": {},
     "outputs": [],
     "prompt_number": 88
    },
    {
     "cell_type": "code",
     "collapsed": false,
     "input": [
      "energias=np.sort(np.log(explambdaenergias)*hbar/(-dt))\n",
      "EigenFunciones=np.append(PuntosQ, Chunflas[1].real,1)"
     ],
     "language": "python",
     "metadata": {},
     "outputs": [],
     "prompt_number": 89
    },
    {
     "cell_type": "code",
     "collapsed": false,
     "input": [
      "np.savetxt(\"EnergiasNelson02.dat\", energias)"
     ],
     "language": "python",
     "metadata": {},
     "outputs": [],
     "prompt_number": 90
    },
    {
     "cell_type": "code",
     "collapsed": false,
     "input": [
      "np.savetxt(\"EigenEstadosNelson02.dat\", EigenFunciones)"
     ],
     "language": "python",
     "metadata": {},
     "outputs": [],
     "prompt_number": 91
    },
    {
     "cell_type": "code",
     "collapsed": false,
     "input": [],
     "language": "python",
     "metadata": {},
     "outputs": [],
     "prompt_number": 69
    }
   ],
   "metadata": {}
  }
 ]
}